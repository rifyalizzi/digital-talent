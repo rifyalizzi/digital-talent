paragraf = "Barcelona berhasil merebut posisi puncak klasemen La Liga Spanyol seusai menang 4-2 atas Sevilla pada pertandingan pekan kesembilan di Stadion Camp Nou, Sabtu (20/10/2018) atau Minggu dini hari WIB. Barcelona membuka keunggulan pada menit ke-2 melalui gol yang dicetak oleh Philippe Coutinho. Lionel Messi menggandakan keunggulan Barcelona, 10 menit berselang.  Namun, nahas bagi Barcelona, karena Messi harus ditarik keluar pada menit ke-26 setelah mengalami cedera. Tanpa Messi, skor 2-0 bertahan hingga babak pertama berakhir."
print(paragraf)

#datacleansing
paragraf = paragraf.replace("-", " ")
paragraf = paragraf.replace("/", " ")
paragraf = paragraf.replace(",", " ")
paragraf = paragraf.replace("("," ")
paragraf = paragraf.replace(")", " ")

paragraf = paragraf.lower()

#dataclustering
kalimat = paragraf.split('.')
kata = []
for k in kalimat:
    kata.append(k.strip().split())

#dataset
wording = []
for k in kata:
    wording = wording + k
dataset = set(wording)

#dictionary
dictionary = {}
for w in dataset:
    if w in dictionary:
        dictionary[w] = dictionary [w]+1
    else:
        dictionary[w] = 1

print ()
print ("Perhitungan kata dari paragraf di atas adalah sebagai berikut:")
print (dictionary)